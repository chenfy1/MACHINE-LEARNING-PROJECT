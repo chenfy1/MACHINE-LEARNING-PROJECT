{
 "cells": [
  {
   "cell_type": "code",
   "execution_count": 18,
   "metadata": {},
   "outputs": [
    {
     "data": {
      "text/plain": [
       "'\\nfrom sklearn.metrics import accuracy_score\\nfrom sklearn.ensemble import RandomForestClassifier\\nfrom sklearn.ensemble import GradientBoostingClassifier\\nX_train=Predict_profit.judge_process(X_train)\\nX_test=Predict_profit.judge_process(X_test)\\nGBDT = GradientBoostingClassifier(learning_rate=0.001,n_estimators=200)  \\nGBDT.fit(X_train,y_train) \\npred_test=GBDT.predict(X_test)\\nprint accuracy_score(y_test,pred_test)\\npred_test=GBDT.predict(X_train)\\nprint accuracy_score(y_train,pred_test)\\n'"
      ]
     },
     "execution_count": 18,
     "metadata": {},
     "output_type": "execute_result"
    }
   ],
   "source": [
    "import numpy as np\n",
    "import pandas as pd\n",
    "from pandas import Series, DataFrame\n",
    "import matplotlib.pyplot as plt\n",
    "import re as re\n",
    "% matplotlib inline\n",
    "import Getmissed\n",
    "import Processothers\n",
    "import Addmissingvalue\n",
    "from sklearn.linear_model import LogisticRegression\n",
    "import Addpredict\n",
    "import Predict\n",
    "from sklearn.linear_model import Ridge\n",
    "from imblearn.over_sampling import SMOTE\n",
    "import Predict_Estimation\n",
    "from sklearn.model_selection import cross_val_score,train_test_split\n",
    "import Predict_profit\n",
    "from sklearn.metrics import r2_score\n",
    "from sklearn.feature_selection import SelectFromModel\n",
    "from sklearn.linear_model import LogisticRegression\n",
    "from sklearn.metrics import accuracy_score\n",
    "from sklearn.feature_selection import SelectFromModel\n",
    "from sklearn.linear_model import LogisticRegression\n",
    "from sklearn.feature_selection import SelectFromModel\n",
    "from sklearn.ensemble import GradientBoostingClassifier\n",
    "import seaborn as sns\n",
    "\n",
    "train_df = pd.read_csv('DataTraining.csv')\n",
    "test_df = pd.read_csv('DataPredict.csv')\n",
    "\n",
    "train=Getmissed.GetTrain(train_df)\n",
    "train_df=Processothers.Get_processed_and_complete(train_df,train)\n",
    "[X_profit,y_profit]=Processothers.Get_processed_profit_need_data(train_df)\n",
    "train_df=Processothers.Process_SMOTE(train_df)\n",
    "[X_all,y_all]=Processothers.Process_get_Xdata_y(train_df,0)\n",
    "#X_all=Predict_profit.judge_process(X_all)\n",
    "#X_profit=Predict_profit.judge_process(X_profit)\n",
    "#得到test_df的哑变量\n",
    "test_df=Processothers.Get_processed_and_complete(test_df,train)\n",
    "test_df=Processothers.Process_get_nice_test_df(test_df,train_df)\n",
    "#打乱重拍\n",
    "#df=df.sample(frac=1).reset_index(drop=True)\n",
    "\n",
    "#分数据\n",
    "X_train,X_test,y_train,y_test=train_test_split(X_all,y_all,test_size=0.2,random_state=2)\n",
    "\n",
    "from sklearn.linear_model import Lasso\n",
    "#lasso回归筛选特征\n",
    "#lasso = Lasso(alpha=0.1)\n",
    "#lasso.fit(X_train,y_train)\n",
    "#y_pred=lasso.predict(X_test)\n",
    "#remain=Processothers.Process_del_zero_feature(X_train,lasso.coef_)\n",
    "#remain\n",
    "#PCA\n",
    "#from sklearn.decomposition import PCA\n",
    "#pca = PCA(n_components=60)\n",
    "#pca.fit(odata)\n",
    "#X_new = pca.transform(odata)\n",
    "#X_transformed = pca.fit_transform(odata,olabel)\n",
    "#pcaDataFrame = pd.DataFrame(X_new)\n",
    "'''\n",
    "from sklearn.metrics import accuracy_score\n",
    "from sklearn.ensemble import RandomForestClassifier\n",
    "from sklearn.ensemble import GradientBoostingClassifier\n",
    "X_train=Predict_profit.judge_process(X_train)\n",
    "X_test=Predict_profit.judge_process(X_test)\n",
    "GBDT = GradientBoostingClassifier(learning_rate=0.001,n_estimators=200)  \n",
    "GBDT.fit(X_train,y_train) \n",
    "pred_test=GBDT.predict(X_test)\n",
    "print accuracy_score(y_test,pred_test)\n",
    "pred_test=GBDT.predict(X_train)\n",
    "print accuracy_score(y_train,pred_test)\n",
    "'''\n",
    "#Predict_profit.profit(X_profit,y_profit)\n",
    "#Predict_Estimation.Predict_evaluation_classify(train_df)"
   ]
  },
  {
   "cell_type": "code",
   "execution_count": 26,
   "metadata": {},
   "outputs": [
    {
     "data": {
      "text/plain": [
       "12851.732170932675"
      ]
     },
     "execution_count": 26,
     "metadata": {},
     "output_type": "execute_result"
    }
   ],
   "source": [
    "totalptofit_GBDT"
   ]
  },
  {
   "cell_type": "code",
   "execution_count": 2,
   "metadata": {},
   "outputs": [
    {
     "name": "stdout",
     "output_type": "stream",
     "text": [
      "0.9286268139498285\n",
      "0.9304248533650126\n"
     ]
    }
   ],
   "source": [
    "#随机森林归一化　１：４验证\n",
    "'''\n",
    "from sklearn.ensemble import RandomForestClassifier\n",
    "X_train=Predict_profit.judge_process(X_train)\n",
    "X_test=Predict_profit.judge_process(X_test)\n",
    "rf0 = RandomForestClassifier()  \n",
    "rf0.fit(X_train,y_train) \n",
    "pred_test=rf0.predict(X_test)\n",
    "print accuracy_score(y_test,pred_test)\n",
    "pred_test=rf0.predict(X_train)\n",
    "print accuracy_score(y_train,pred_test)\n",
    "'''\n",
    "'''\n",
    "from sklearn.linear_model import LinearRegression,Lasso,Ridge,BayesianRidge\n",
    "from sklearn import cross_validation\n",
    "#lasso = Lasso(alpha= 0.01)\n",
    "#rgr = Ridge(alpha=0.5)\n",
    "#br = BayesianRidge()\n",
    "lr = BayesianRidge()\n",
    "#clf = SVC(kernel='poly')\n",
    "lr.fit(X_train, y_train) \n",
    "pred_test= lr.predict(X_test) \n",
    "print r2_score(y_test,pred_test)\n",
    "pred_test=lr.predict(X_train)\n",
    "print r2_score(y_train,pred_test)\n",
    "'''"
   ]
  },
  {
   "cell_type": "code",
   "execution_count": 3,
   "metadata": {},
   "outputs": [
    {
     "ename": "SyntaxError",
     "evalue": "EOF while scanning triple-quoted string literal (<ipython-input-3-4b2b73eb7c5e>, line 4)",
     "output_type": "error",
     "traceback": [
      "\u001b[0;36m  File \u001b[0;32m\"<ipython-input-3-4b2b73eb7c5e>\"\u001b[0;36m, line \u001b[0;32m4\u001b[0m\n\u001b[0;31m    pred_profit=ridge.predict(test_df)\u001b[0m\n\u001b[0m                                      \n^\u001b[0m\n\u001b[0;31mSyntaxError\u001b[0m\u001b[0;31m:\u001b[0m EOF while scanning triple-quoted string literal\n"
     ]
    }
   ],
   "source": [
    "'''\n",
    "ridge = Ridge(alpha=.5)\n",
    "ridge.fit(X_profit,y_profit)\n",
    "pred_profit=ridge.predict(test_df)"
   ]
  },
  {
   "cell_type": "code",
   "execution_count": null,
   "metadata": {},
   "outputs": [],
   "source": [
    "test_df=Predict_profit.judge_process(test_df)\n",
    "X_all=Predict_profit.judge_process(X_all)\n",
    "X_profit=Predict_profit.judge_process(X_profit)\n",
    "test_df_GBDT_good,totalptofit_GBDT=Predict.Final_predict(test_df,X_all,y_all,X_profit,y_profit,1,0.9476)\n",
    "test_df_GBDT_good.to_csv(\"test_df_GBDT_good.csv\",index=False,sep=',')\n",
    "test_df_RF_good,totalptofit_RF=Predict.Final_predict(test_df,X_all,y_all,X_profit,y_profit,0,0.9361)\n",
    "test_df_RF_good.to_csv(\"test_df_RF_good.csv\",index=False,sep=',')\n"
   ]
  },
  {
   "cell_type": "code",
   "execution_count": null,
   "metadata": {},
   "outputs": [],
   "source": [
    "#dc=Processothers.get_importance_of_feature(X_all,y_all)"
   ]
  },
  {
   "cell_type": "code",
   "execution_count": null,
   "metadata": {},
   "outputs": [],
   "source": [
    "totalptofit_GBDT"
   ]
  },
  {
   "cell_type": "code",
   "execution_count": null,
   "metadata": {},
   "outputs": [],
   "source": [
    "totalptofit_RF"
   ]
  },
  {
   "cell_type": "code",
   "execution_count": null,
   "metadata": {},
   "outputs": [],
   "source": [
    "test_df_GBDT_good"
   ]
  },
  {
   "cell_type": "code",
   "execution_count": null,
   "metadata": {},
   "outputs": [],
   "source": [
    "X_profit"
   ]
  },
  {
   "cell_type": "code",
   "execution_count": 25,
   "metadata": {},
   "outputs": [],
   "source": [
    "test_df=Predict_profit.judge_process(test_df)\n",
    "X_all=Predict_profit.judge_process(X_all)\n",
    "X_profit=Predict_profit.judge_process(X_profit)\n",
    "test_df_GBDT_good,totalptofit_GBDT=Predict.Final_predict(test_df,X_all,y_all,X_profit,y_profit,1,0.9476)\n",
    "test_df_GBDT_good.to_csv(\"DataPredict.csv\",index=False,sep=',')"
   ]
  },
  {
   "cell_type": "code",
   "execution_count": null,
   "metadata": {},
   "outputs": [],
   "source": []
  }
 ],
 "metadata": {
  "kernelspec": {
   "display_name": "Python 2",
   "language": "python",
   "name": "python2"
  },
  "language_info": {
   "codemirror_mode": {
    "name": "ipython",
    "version": 2
   },
   "file_extension": ".py",
   "mimetype": "text/x-python",
   "name": "python",
   "nbconvert_exporter": "python",
   "pygments_lexer": "ipython2",
   "version": "2.7.14"
  }
 },
 "nbformat": 4,
 "nbformat_minor": 2
}
