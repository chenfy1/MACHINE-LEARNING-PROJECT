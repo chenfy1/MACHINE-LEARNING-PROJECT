{
 "cells": [
  {
   "cell_type": "code",
   "execution_count": null,
   "metadata": {},
   "outputs": [],
   "source": [
    "import math\n",
    "import numpy as np\n",
    "import pandas as pd\n",
    "from pandas import Series, DataFrame\n",
    "import matplotlib.pyplot as plt\n",
    "import re as re\n",
    "% matplotlib inline\n",
    "import Getmissed\n",
    "import Processothers\n",
    "import Addmissingvalue\n",
    "from sklearn.linear_model import LogisticRegression\n",
    "import Addpredict\n",
    "import Predict\n",
    "from sklearn.linear_model import Ridge\n",
    "from imblearn.over_sampling import SMOTE\n",
    "import Predict_Estimation\n",
    "from sklearn.model_selection import cross_val_score,train_test_split\n",
    "import Predict_profit\n",
    "from sklearn.metrics import r2_score\n",
    "from sklearn.feature_selection import SelectFromModel\n",
    "from sklearn.linear_model import LogisticRegression\n",
    "from sklearn.metrics import accuracy_score\n",
    "from sklearn.feature_selection import SelectFromModel\n",
    "from sklearn.linear_model import LogisticRegression\n",
    "from sklearn.feature_selection import SelectFromModel\n",
    "from sklearn.ensemble import GradientBoostingClassifier\n",
    "import seaborn as sns\n",
    "\n",
    "#read data\n",
    "train_df = pd.read_csv('DataTraining.csv')\n",
    "test_df = pd.read_csv('DataPredict.csv')"
   ]
  }
 ],
 "metadata": {
  "kernelspec": {
   "display_name": "Python 2",
   "language": "python",
   "name": "python2"
  },
  "language_info": {
   "codemirror_mode": {
    "name": "ipython",
    "version": 2
   },
   "file_extension": ".py",
   "mimetype": "text/x-python",
   "name": "python",
   "nbconvert_exporter": "python",
   "pygments_lexer": "ipython2",
   "version": "2.7.14"
  }
 },
 "nbformat": 4,
 "nbformat_minor": 2
}
