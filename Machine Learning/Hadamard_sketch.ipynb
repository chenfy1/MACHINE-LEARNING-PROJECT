{
 "cells": [
  {
   "cell_type": "code",
   "execution_count": 15,
   "metadata": {},
   "outputs": [],
   "source": [
    "import numpy as np\n",
    "import matplotlib.pyplot as plt"
   ]
  },
  {
   "cell_type": "code",
   "execution_count": 1,
   "metadata": {},
   "outputs": [],
   "source": [
    "# import data from CSV data\n",
    "import processData as pd"
   ]
  },
  {
   "cell_type": "code",
   "execution_count": 2,
   "metadata": {
    "scrolled": true
   },
   "outputs": [
    {
     "name": "stderr",
     "output_type": "stream",
     "text": [
      "/home/chenyf1/anaconda2/lib/python2.7/site-packages/IPython/core/interactiveshell.py:2822: DtypeWarning: Columns (0,1,2,3,4,5,6,7,8,9,10,11,12,13,14,15,16,17,18,19,20,21,22,23,24,25,26,27,28,29,30,31,32,33,34,35,36,37,38,39,40,41,42,43,44,45,46,47,48,49,50,51,52,53,54,55,56,57,58,59,60,61,62,63,64,65,66) have mixed types. Specify dtype option on import or set low_memory=False.\n",
      "  if self.run_code(code, result):\n"
     ]
    }
   ],
   "source": [
    "A = pd.getdata()"
   ]
  },
  {
   "cell_type": "code",
   "execution_count": 5,
   "metadata": {
    "collapsed": true
   },
   "outputs": [
    {
     "data": {
      "text/plain": [
       "array([[34.        ,  2.        ,  0.        , ...,  0.        ,\n",
       "         1.        ,  0.        ],\n",
       "       [31.        ,  0.        , 35.        , ...,  0.        ,\n",
       "         1.        ,  0.        ],\n",
       "       [33.        ,  1.        ,  0.        , ...,  0.        ,\n",
       "         1.        ,  0.        ],\n",
       "       ...,\n",
       "       [33.        ,  1.50578826,  0.        , ...,  0.        ,\n",
       "         1.        ,  0.        ],\n",
       "       [46.        ,  1.51577159,  0.        , ...,  0.        ,\n",
       "         1.        ,  0.        ],\n",
       "       [38.        ,  1.        ,  0.        , ...,  0.        ,\n",
       "         1.        ,  0.        ]])"
      ]
     },
     "execution_count": 5,
     "metadata": {},
     "output_type": "execute_result"
    }
   ],
   "source": []
  },
  {
   "cell_type": "code",
   "execution_count": 6,
   "metadata": {},
   "outputs": [
    {
     "ename": "NameError",
     "evalue": "name 'HP' is not defined",
     "output_type": "error",
     "traceback": [
      "\u001b[0;31m---------------------------------------------------------------------------\u001b[0m",
      "\u001b[0;31mNameError\u001b[0m                                 Traceback (most recent call last)",
      "\u001b[0;32m<ipython-input-6-6c7f6e4a03fc>\u001b[0m in \u001b[0;36m<module>\u001b[0;34m()\u001b[0m\n\u001b[0;32m----> 1\u001b[0;31m \u001b[0mproj\u001b[0m \u001b[0;34m=\u001b[0m \u001b[0mHP\u001b[0m\u001b[0;34m.\u001b[0m\u001b[0mhadamardProj_matrix\u001b[0m\u001b[0;34m(\u001b[0m\u001b[0mA\u001b[0m\u001b[0;34m,\u001b[0m\u001b[0;36m13\u001b[0m\u001b[0;34m,\u001b[0m\u001b[0;36m500\u001b[0m\u001b[0;34m)\u001b[0m\u001b[0;34m\u001b[0m\u001b[0m\n\u001b[0m\u001b[1;32m      2\u001b[0m \u001b[0;32mprint\u001b[0m\u001b[0;34m(\u001b[0m\u001b[0mproj\u001b[0m\u001b[0;34m.\u001b[0m\u001b[0mshape\u001b[0m\u001b[0;34m)\u001b[0m\u001b[0;34m\u001b[0m\u001b[0m\n",
      "\u001b[0;31mNameError\u001b[0m: name 'HP' is not defined"
     ]
    }
   ],
   "source": [
    "#proj = HP.hadamardProj_matrix(A,13,500)\n",
    "#print(proj.shape)"
   ]
  },
  {
   "cell_type": "code",
   "execution_count": 7,
   "metadata": {},
   "outputs": [],
   "source": [
    "def generateHadamard (k):\n",
    "    h = np.array([[1,1],[1,-1]])\n",
    "    H = h\n",
    "    for i in range(k)[1:]:\n",
    "        H = np.kron(H,h)\n",
    "    return H"
   ]
  },
  {
   "cell_type": "code",
   "execution_count": 8,
   "metadata": {},
   "outputs": [
    {
     "name": "stdout",
     "output_type": "stream",
     "text": [
      "(8192, 1)\n",
      "[[ 2.]\n",
      " [ 0.]\n",
      " [ 1.]\n",
      " [ 2.]\n",
      " [ 6.]\n",
      " [ 3.]\n",
      " [ 3.]\n",
      " [ 2.]\n",
      " [10.]\n",
      " [ 3.]]\n"
     ]
    }
   ],
   "source": [
    "#generate a vector \n",
    "x = A[:,1].reshape(-1,1)\n",
    "print(x.shape)\n",
    "print(x[:10])"
   ]
  },
  {
   "cell_type": "code",
   "execution_count": 9,
   "metadata": {},
   "outputs": [],
   "source": [
    "def result_Dx(x):\n",
    "    length, _ = x.shape;\n",
    "    d_vec = np.random.randint(2,size=(length,1))*2-1\n",
    "    return d_vec*x"
   ]
  },
  {
   "cell_type": "code",
   "execution_count": 10,
   "metadata": {},
   "outputs": [],
   "source": [
    "def chooseP(row,dimension):\n",
    "    P = np.zeros(shape=(row,dimension))\n",
    "    selector = np.random.randint(dimension-1,size=(row,1))+1\n",
    "    for index in range(row):\n",
    "        P[index,selector[index]-1] = 1\n",
    "    return P,selector"
   ]
  },
  {
   "cell_type": "code",
   "execution_count": 11,
   "metadata": {},
   "outputs": [],
   "source": [
    "count=0"
   ]
  },
  {
   "cell_type": "code",
   "execution_count": 12,
   "metadata": {},
   "outputs": [],
   "source": [
    "\n",
    "# In the following algorithm,we want to track the number of how many non-zero elements in P. not only numbers, we want know \n",
    "# the positions in P,How do we obtain the non-zero elements' position\n",
    "# If the elements in a row are all zero, we denote selector to zero\n",
    "def iterator_hadamardProj(P,H,x,selector):\n",
    "    dimension, _ = x.shape\n",
    "    row,_ = P.shape\n",
    "    if np.sum(selector==0) == row:\n",
    "        print(np.sum(selector==0))\n",
    "        print(P.shape)\n",
    "        #count += 1\n",
    "        results = np.zeros((row,1))\n",
    "    elif np.sum(selector==0) ==row-1:\n",
    "        #print(np.sum(selector==0))\n",
    "        nonzero_index = np.argmax(selector)\n",
    "        #print(P.shape)\n",
    "        #print(nonzero_index,H.shape)\n",
    "        #count += 1\n",
    "        results = np.zeros((row,1))\n",
    "        results[nonzero_index] = np.dot(H[selector[nonzero_index]-1],x)\n",
    "    else:\n",
    "        dimen_sub = int(dimension/2)\n",
    "        P1 = P[:,:dimen_sub]\n",
    "        P2 = P[:,dimen_sub:dimension]\n",
    "        #Here we need to update the selector \n",
    "        selector1=(selector<dimen_sub)*selector\n",
    "        selector2=(selector>=dimen_sub)*(selector-dimen_sub)\n",
    "        H_sub = H[:dimen_sub,:dimen_sub]\n",
    "        x_1=x[:dimen_sub]\n",
    "        x_2 = x[dimen_sub:]\n",
    "        #print(P1.shape,H_sub.shape,x_1.shape)\n",
    "        #print(P2.shape,x_2.shape)\n",
    "        res_add = iterator_hadamardProj(P1,H_sub,x_1+x_2,selector1)\n",
    "        res_dec = iterator_hadamardProj(P2,H_sub,x_1-x_2,selector2)\n",
    "        results = res_add + res_dec\n",
    "    return results"
   ]
  },
  {
   "cell_type": "code",
   "execution_count": 13,
   "metadata": {},
   "outputs": [],
   "source": [
    "def hadamardProj_vector(x,k,row):\n",
    "    H = generateHadamard(k)\n",
    "    #print(H.shape)\n",
    "    Dx = result_Dx(x)\n",
    "    P,selector= chooseP(row,2**k)# The selector contain the position imformation of nonzero elements \n",
    "    nonzero_elements = row\n",
    "    #check=P.dot(np.dot(H,Dx))\n",
    "    proj = iterator_hadamardProj(P,H,Dx,selector)\n",
    "    return proj#-check"
   ]
  },
  {
   "cell_type": "code",
   "execution_count": 16,
   "metadata": {
    "scrolled": false
   },
   "outputs": [],
   "source": [
    "proj=hadamardProj_vector(x,13,500)"
   ]
  },
  {
   "cell_type": "code",
   "execution_count": 17,
   "metadata": {},
   "outputs": [],
   "source": [
    "def hadamardProj_matrix(A,k,row):\n",
    "    n,d = A.shape\n",
    "    proj_M = np.zeros(shape=(row,d))\n",
    "    for i in range(d):\n",
    "        proj_M[:,i] = hadamardProj_vector(A[:,i].reshape(-1,1),k,row).reshape(-1,)\n",
    "    return proj_M\n"
   ]
  },
  {
   "cell_type": "code",
   "execution_count": 18,
   "metadata": {
    "scrolled": false
   },
   "outputs": [
    {
     "name": "stdout",
     "output_type": "stream",
     "text": [
      "(500, 1)\n"
     ]
    }
   ],
   "source": [
    "print(proj.shape)"
   ]
  },
  {
   "cell_type": "code",
   "execution_count": 19,
   "metadata": {
    "scrolled": false
   },
   "outputs": [],
   "source": [
    "proj_mat=hadamardProj_matrix(A,13,500)"
   ]
  },
  {
   "cell_type": "code",
   "execution_count": 20,
   "metadata": {},
   "outputs": [
    {
     "name": "stdout",
     "output_type": "stream",
     "text": [
      "(500, 65)\n"
     ]
    }
   ],
   "source": [
    "H = generateHadamard(13)\n",
    "#print(H.shape)\n",
    "P,selector= chooseP(500,2**13)\n",
    "proj=P.dot(np.dot(H,A))\n",
    "print(proj.shape)"
   ]
  },
  {
   "cell_type": "code",
   "execution_count": 22,
   "metadata": {},
   "outputs": [
    {
     "data": {
      "text/plain": [
       "(500, 65)"
      ]
     },
     "execution_count": 22,
     "metadata": {},
     "output_type": "execute_result"
    }
   ],
   "source": [
    "proj.shape"
   ]
  },
  {
   "cell_type": "code",
   "execution_count": null,
   "metadata": {},
   "outputs": [],
   "source": []
  }
 ],
 "metadata": {
  "kernelspec": {
   "display_name": "Python 2",
   "language": "python",
   "name": "python2"
  },
  "language_info": {
   "codemirror_mode": {
    "name": "ipython",
    "version": 2
   },
   "file_extension": ".py",
   "mimetype": "text/x-python",
   "name": "python",
   "nbconvert_exporter": "python",
   "pygments_lexer": "ipython2",
   "version": "2.7.14"
  }
 },
 "nbformat": 4,
 "nbformat_minor": 2
}
