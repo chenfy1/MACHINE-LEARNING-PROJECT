{
 "cells": [
  {
   "cell_type": "code",
   "execution_count": 1,
   "metadata": {},
   "outputs": [
    {
     "name": "stderr",
     "output_type": "stream",
     "text": [
      "/home/chenyf1/anaconda2/lib/python2.7/site-packages/sklearn/cross_validation.py:41: DeprecationWarning: This module was deprecated in version 0.18 in favor of the model_selection module into which all the refactored classes and functions are moved. Also note that the interface of the new CV iterators are different from that of this module. This module will be removed in 0.20.\n",
      "  \"This module will be removed in 0.20.\", DeprecationWarning)\n"
     ]
    }
   ],
   "source": [
    "import numpy as np\n",
    "import pandas as pd\n",
    "from pandas import Series, DataFrame\n",
    "import matplotlib.pyplot as plt\n",
    "import re as re\n",
    "% matplotlib inline\n",
    "import Getmissed\n",
    "import Processothers\n",
    "import Addmissingvalue\n",
    "from sklearn.linear_model import LogisticRegression\n",
    "import Addpredict\n",
    "import Predict\n",
    "from sklearn.linear_model import Ridge\n",
    "from imblearn.over_sampling import SMOTE\n",
    "import Predict_Estimation\n",
    "from sklearn.model_selection import cross_val_score,train_test_split\n",
    "import Predict_profit\n",
    "from sklearn.metrics import r2_score\n",
    "from sklearn.feature_selection import SelectFromModel\n",
    "from sklearn.linear_model import LogisticRegression\n",
    "from sklearn.metrics import accuracy_score\n",
    "from sklearn.feature_selection import SelectFromModel\n",
    "from sklearn.linear_model import LogisticRegression\n",
    "from sklearn.feature_selection import SelectFromModel\n",
    "from sklearn.ensemble import GradientBoostingClassifier\n",
    "import seaborn as sns\n",
    "\n",
    "#read data\n",
    "train_df = pd.read_csv('DataTraining.csv')\n",
    "test_df = pd.read_csv('DataPredict.csv')\n",
    "#fill missing data\n",
    "train=Getmissed.GetTrain(train_df)\n",
    "train_df=Processothers.Get_processed_and_complete(train_df,train)\n",
    "#get data for profit\n",
    "[X_profit,y_profit]=Processothers.Get_processed_profit_need_data(train_df)\n",
    "#SMOTE\n",
    "train_df=Processothers.Process_SMOTE(train_df)"
   ]
  },
  {
   "cell_type": "code",
   "execution_count": 4,
   "metadata": {},
   "outputs": [],
   "source": [
    "train_df.to_csv(\"DataPredict_complete.csv\",index=False,sep=',')\n",
    "\n"
   ]
  }
 ],
 "metadata": {
  "kernelspec": {
   "display_name": "Python 2",
   "language": "python",
   "name": "python2"
  },
  "language_info": {
   "codemirror_mode": {
    "name": "ipython",
    "version": 2
   },
   "file_extension": ".py",
   "mimetype": "text/x-python",
   "name": "python",
   "nbconvert_exporter": "python",
   "pygments_lexer": "ipython2",
   "version": "2.7.14"
  }
 },
 "nbformat": 4,
 "nbformat_minor": 2
}
