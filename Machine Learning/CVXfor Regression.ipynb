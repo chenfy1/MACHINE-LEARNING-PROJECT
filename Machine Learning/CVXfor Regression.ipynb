{
 "cells": [
  {
   "cell_type": "code",
   "execution_count": 1,
   "metadata": {},
   "outputs": [
    {
     "name": "stderr",
     "output_type": "stream",
     "text": [
      "/home/chenyf1/anaconda2/lib/python2.7/site-packages/sklearn/cross_validation.py:41: DeprecationWarning: This module was deprecated in version 0.18 in favor of the model_selection module into which all the refactored classes and functions are moved. Also note that the interface of the new CV iterators are different from that of this module. This module will be removed in 0.20.\n",
      "  \"This module will be removed in 0.20.\", DeprecationWarning)\n"
     ]
    }
   ],
   "source": [
    "import math\n",
    "import numpy as np\n",
    "import pandas as pd\n",
    "from pandas import Series, DataFrame\n",
    "import matplotlib.pyplot as plt\n",
    "import re as re\n",
    "% matplotlib inline\n",
    "import Getmissed\n",
    "import Processothers\n",
    "import Addmissingvalue\n",
    "from sklearn.linear_model import LogisticRegression\n",
    "import Addpredict\n",
    "import Predict\n",
    "from sklearn.linear_model import Ridge\n",
    "from imblearn.over_sampling import SMOTE\n",
    "import Predict_Estimation\n",
    "from sklearn.model_selection import cross_val_score,train_test_split\n",
    "import Predict_profit\n",
    "from sklearn.metrics import r2_score\n",
    "from sklearn.feature_selection import SelectFromModel\n",
    "from sklearn.linear_model import LogisticRegression\n",
    "from sklearn.metrics import accuracy_score\n",
    "from sklearn.feature_selection import SelectFromModel\n",
    "from sklearn.linear_model import LogisticRegression\n",
    "from sklearn.feature_selection import SelectFromModel\n",
    "from sklearn.ensemble import GradientBoostingClassifier\n",
    "import seaborn as sns\n",
    "import time\n",
    "#read data\n",
    "train_df = pd.read_csv('DataTraining.csv')\n",
    "test_df = pd.read_csv('DataPredict.csv')\n",
    "#fill missing data\n",
    "train=Getmissed.GetTrain(train_df)\n",
    "train_df=Processothers.Get_processed_and_complete(train_df,train)\n",
    "#get data for profit\n",
    "[X_profit,y_profit]=Processothers.Get_processed_profit_need_data(train_df)\n",
    "#SMOTE\n",
    "train_df=Processothers.Process_SMOTE(train_df)\n",
    "#get data for responded\n",
    "[X_all,y_all]=Processothers.Process_get_Xdata_y(train_df,0)\n",
    "#fill missing data for test dataset\n",
    "test_df=Processothers.Get_processed_and_complete(test_df,train)\n",
    "test_df=Processothers.Process_get_nice_test_df(test_df,train_df)\n",
    "#normalise\n",
    "test_df=Predict_profit.judge_process(test_df)\n",
    "X_all=Predict_profit.judge_process(X_all)\n",
    "X_profit=Predict_profit.judge_process(X_profit)\n",
    "#get final CSV and totalprofit"
   ]
  },
  {
   "cell_type": "code",
   "execution_count": 2,
   "metadata": {},
   "outputs": [],
   "source": [
    "[X_profit_more,y_profit_more]=Processothers.Process_get_Xdata_y(train_df,1)\n",
    "X_profit_more=Predict_profit.judge_process(X_profit_more)\n",
    "from sklearn import preprocessing\n",
    "import numpy as np\n",
    "y_profit_more = preprocessing.scale(y_profit_more)"
   ]
  },
  {
   "cell_type": "code",
   "execution_count": 3,
   "metadata": {},
   "outputs": [],
   "source": [
    "rankA=np.linalg.matrix_rank(X_profit.values)"
   ]
  },
  {
   "cell_type": "code",
   "execution_count": 4,
   "metadata": {},
   "outputs": [
    {
     "name": "stdout",
     "output_type": "stream",
     "text": [
      "0.641752\n"
     ]
    },
    {
     "name": "stderr",
     "output_type": "stream",
     "text": [
      "/home/chenyf1/anaconda2/lib/python2.7/site-packages/sklearn/linear_model/coordinate_descent.py:491: ConvergenceWarning: Objective did not converge. You might want to increase the number of iterations. Fitting data with very small alpha may cause precision problems.\n",
      "  ConvergenceWarning)\n"
     ]
    }
   ],
   "source": [
    "start = time.clock()\n",
    "\n",
    "from sklearn import linear_model\n",
    "clf = linear_model.Lasso(alpha=0.1,tol=10**(-200))\n",
    "clf.fit(X_profit_more,y_profit_more)\n",
    "\n",
    "end = time.clock()\n",
    "original_time=end-start\n",
    "print original_time"
   ]
  },
  {
   "cell_type": "code",
   "execution_count": 5,
   "metadata": {},
   "outputs": [
    {
     "data": {
      "text/plain": [
       "1483.3073138031477"
      ]
     },
     "execution_count": 5,
     "metadata": {},
     "output_type": "execute_result"
    }
   ],
   "source": [
    "from cvxpy import *\n",
    "import numpy\n",
    "import matplotlib.pyplot as plt\n",
    "\n",
    "# Problem data.\n",
    "n = X_profit_more.shape[0]\n",
    "m = X_profit_more.shape[1]\n",
    "A = X_profit_more.values\n",
    "b = y_profit_more\n",
    "# gamma must be positive due to DCP rules.\n",
    "gamma = 0.2\n",
    "\n",
    "# Construct the problem.\n",
    "x = Variable(m)\n",
    "error = sum_squares(A*x - b)\n",
    "obj = Minimize(error + gamma*norm(x, 1))\n",
    "prob = Problem(obj)\n",
    "prob.solve()"
   ]
  },
  {
   "cell_type": "code",
   "execution_count": 6,
   "metadata": {},
   "outputs": [],
   "source": [
    "f1=np.linalg.norm(np.dot(X_profit_more,x.value)-y_profit_more)**2"
   ]
  },
  {
   "cell_type": "code",
   "execution_count": 7,
   "metadata": {},
   "outputs": [],
   "source": [
    "#f1=np.linalg.norm(clf.predict(X_profit_more)-y_profit_more)**2"
   ]
  },
  {
   "cell_type": "code",
   "execution_count": null,
   "metadata": {},
   "outputs": [],
   "source": [
    "import HD\n",
    "HD.HD(12)"
   ]
  },
  {
   "cell_type": "code",
   "execution_count": null,
   "metadata": {},
   "outputs": [],
   "source": [
    "Project_S.shape"
   ]
  },
  {
   "cell_type": "code",
   "execution_count": null,
   "metadata": {},
   "outputs": [],
   "source": [
    "H_index=np.array(random.sample(range(7240), 4096)) "
   ]
  },
  {
   "cell_type": "code",
   "execution_count": null,
   "metadata": {
    "scrolled": true
   },
   "outputs": [],
   "source": [
    "H_index"
   ]
  },
  {
   "cell_type": "code",
   "execution_count": null,
   "metadata": {},
   "outputs": [],
   "source": [
    "\n",
    "import HD\n",
    "HD.HD(12)\n",
    "H_index=np.array(random.sample(range(7240), 4096)) \n",
    "XH=X_profit_more.iloc[H_index]\n",
    "yH=y_profit_more.iloc[H_index]"
   ]
  },
  {
   "cell_type": "code",
   "execution_count": null,
   "metadata": {},
   "outputs": [],
   "source": []
  },
  {
   "cell_type": "code",
   "execution_count": null,
   "metadata": {},
   "outputs": [],
   "source": [
    "import scipy as spy\n",
    "import random\n",
    "start = time.clock()\n",
    "\n",
    "from sklearn import linear_model\n",
    "clf = linear_model.Lasso(alpha=0.1)\n",
    "clf.fit(XH,yH)\n",
    "\n",
    "end = time.clock()\n",
    "original_time=end-start\n",
    "print original_time\n",
    "f1=np.linalg.norm(clf.predict(XH)-yH)**2\n",
    "\n",
    "n=X_profit_more.shape[0]\n",
    "start_total = time.clock()\n",
    "Guassian5_time=[]\n",
    "ratio_5=[]\n",
    "\n",
    "import HD\n",
    "Project_S=HD.HD(12)\n",
    "\n",
    "\n",
    "a_range=np.arange(0.8,18,0.8)\n",
    "for a in a_range:\n",
    "    m=int(4*a*rankA)+1\n",
    "    start = time.clock()\n",
    "\n",
    "    S=np.array(random.sample(Project_S, m))  \n",
    "    \n",
    "    SX=np.dot(S,XH)\n",
    "    Sy=np.dot(S,yH)\n",
    "    clf_s = linear_model.Lasso(alpha=0.1)\n",
    "    clf_s.fit(SX,Sy)\n",
    "    end = time.clock()\n",
    "    Guassian5_time.append(end-start)\n",
    "    f2=np.linalg.norm(clf_s.predict(XH)-yH)**2\n",
    "    ratio=f2/f1\n",
    "    ratio_5.append(ratio)\n",
    "end_total = time.clock()\n",
    "print(end_total-start_total)\n",
    "print np.mean(Project_S)\n",
    "print(np.var(Project_S))"
   ]
  },
  {
   "cell_type": "code",
   "execution_count": null,
   "metadata": {
    "scrolled": true
   },
   "outputs": [],
   "source": [
    "plt.figure(figsize=(8,5),dpi=1200)\n",
    "plt.plot(a_range,ratio_5,'ro-')  \n",
    "plt.title('LASSO d=65')  \n",
    "plt.xlabel('Control parameter' r'$\\quad\\alpha$')  \n",
    "plt.ylabel('Approx. ratio' r'$\\quad\\frac{f(x)}{f(x^*)}$')    \n",
    "\n",
    "\n",
    "foo_fig = plt.gcf() \n",
    "foo_fig.savefig('H_ratio.eps', format='eps', dpi=1200)\n",
    "\n",
    "plt.show() \n",
    "\n",
    "plt.figure(figsize=(8,5),dpi=1200)\n",
    "plt.plot(a_range,Guassian5_time,'ro-')  \n",
    "plt.title('LASSO d=65')  \n",
    "plt.xlabel('Control parameter' r'$\\quad\\alpha$')  \n",
    "plt.ylabel('CPU runtime' r'$(s)$')    \n",
    "\n",
    "\n",
    "foo_fig = plt.gcf() \n",
    "foo_fig.savefig('H_time.eps', format='eps', dpi=1200)\n",
    "\n",
    "plt.show() "
   ]
  },
  {
   "cell_type": "code",
   "execution_count": null,
   "metadata": {},
   "outputs": [],
   "source": [
    "f1"
   ]
  },
  {
   "cell_type": "code",
   "execution_count": null,
   "metadata": {},
   "outputs": [],
   "source": [
    "f2"
   ]
  },
  {
   "cell_type": "code",
   "execution_count": null,
   "metadata": {},
   "outputs": [],
   "source": [
    "m"
   ]
  },
  {
   "cell_type": "code",
   "execution_count": null,
   "metadata": {},
   "outputs": [],
   "source": [
    "ratio_5"
   ]
  },
  {
   "cell_type": "code",
   "execution_count": null,
   "metadata": {},
   "outputs": [],
   "source": [
    "np.dot(Project_S.T,Project_S)"
   ]
  },
  {
   "cell_type": "code",
   "execution_count": null,
   "metadata": {},
   "outputs": [],
   "source": [
    "from sklearn import preprocessing\n",
    "import numpy as np\n",
    "y_scaled = preprocessing.scale(y_profit_more)"
   ]
  },
  {
   "cell_type": "code",
   "execution_count": null,
   "metadata": {},
   "outputs": [],
   "source": [
    "import random\n",
    "import scipy as spy\n",
    "from cvxpy import *\n",
    "import numpy as np\n",
    "import matplotlib.pyplot as plt\n",
    "\n",
    "def Get_ratio_runtime(X_profit_more,y_profit_more,option,f1):\n",
    "    n=X_profit_more.shape[0]\n",
    "    start_total = time.clock()\n",
    "    Guassian1_time=[]\n",
    "    ratio_1=[]\n",
    "    \n",
    "    if option==0:\n",
    "        Project_S=np.random.normal(0,1,(n,n))\n",
    "    if option==1:\n",
    "        Project_S=np.random.random(size=(n,n))-0.5\n",
    "        for i in range(0,n):\n",
    "            norm=np.linalg.norm(Project_S[i])\n",
    "            Project_S[i]=Project_S[i]/norm*math.sqrt(n)\n",
    "    if option==2:\n",
    "        Project_S=np.random.randint(0,2,size=[n,n])  \n",
    "        Project_S[np.where(Project_S==0)]=Project_S[np.where(Project_S==0)]-1\n",
    "    if option==3:\n",
    "        B=spy.sparse.rand(n,n,density=density,format=matrixformat,dtype=None)\n",
    "        Project_S=B.todense()\n",
    "        Project_S[np.where(Project_S>=0.5)]=1\n",
    "        Project_S[np.where((Project_S>0)&(Project_S<1))]=-1\n",
    "        Project_S=np.array(Project_S)\n",
    "    if option==4:\n",
    "        import HD\n",
    "        Project_S=HD.HD(12)\n",
    "        \n",
    "    a_range=np.arange(0.11,3.3,0.11)\n",
    "    for a in a_range:\n",
    "        start = time.clock()\n",
    "        m=int(4*a*rankA)+1\n",
    "        \n",
    "        S=np.array(random.sample(Project_S, m))\n",
    "    \n",
    "        SX=np.dot(S,X_profit_more)\n",
    "        Sy=np.dot(S,y_profit_more)\n",
    "        #clf_s = linear_model.Lasso(alpha=0.1,tol=10**(-200))\n",
    "        #clf_s.fit(SX,Sy)\n",
    "    \n",
    "        #n = SX.shape[0]\n",
    "        #m = SX.shape[1]\n",
    "        A = SX\n",
    "        b = Sy\n",
    "        # gamma must be positive due to DCP rules.\n",
    "        gamma = 0.2\n",
    "\n",
    "        # Construct the problem.\n",
    "        x = Variable()\n",
    "        error = sum_squares(A*x - b)\n",
    "        obj = Minimize(error + gamma*norm(x, 1))\n",
    "        prob = Problem(obj)\n",
    "        prob.solve()\n",
    "    \n",
    "        end = time.clock()\n",
    "    \n",
    "        Guassian1_time.append(end-start)\n",
    "        f2=np.linalg.norm(np.dot(X_profit_more,x.value)-y_profit_more)**2\n",
    "        #f2=np.linalg.norm(clf_s.predict(X_profit_more)-y_profit_more)**2\n",
    "        ratio=f2/f1\n",
    "        ratio_1.append(ratio)\n",
    "    end_total = time.clock()\n",
    "    print(end_total-start_total)\n",
    "    print np.mean(Project_S)\n",
    "    print(np.var(Project_S))  \n",
    "    \n",
    "    plt.figure(figsize=(8,5),dpi=1200)\n",
    "    plt.plot(a_range,ratio_1,'ro-')  \n",
    "    plt.title('LASSO d=65')  \n",
    "    plt.xlabel('Control parameter' r'$\\quad\\alpha$')  \n",
    "    plt.ylabel('Approx. ratio' r'$\\quad\\frac{f(x)}{f(x^*)}$')    \n",
    "\n",
    "\n",
    "    foo_fig = plt.gcf() \n",
    "    foo_fig.savefig('H_ratio.eps', format='eps', dpi=1200)\n",
    "\n",
    "    plt.show() \n",
    "\n",
    "    plt.figure(figsize=(8,5),dpi=1200)\n",
    "    plt.plot(a_range,Guassian1_time,'ro-')  \n",
    "    plt.title('LASSO d=65')  \n",
    "    plt.xlabel('Control parameter' r'$\\quad\\alpha$')  \n",
    "    plt.ylabel('CPU runtime' r'$(s)$')    \n",
    "\n",
    "\n",
    "    foo_fig = plt.gcf() \n",
    "    foo_fig.savefig('H_time.eps', format='eps', dpi=1200)\n",
    "\n",
    "    plt.show() "
   ]
  },
  {
   "cell_type": "code",
   "execution_count": null,
   "metadata": {},
   "outputs": [],
   "source": []
  }
 ],
 "metadata": {
  "kernelspec": {
   "display_name": "Python 2",
   "language": "python",
   "name": "python2"
  },
  "language_info": {
   "codemirror_mode": {
    "name": "ipython",
    "version": 2
   },
   "file_extension": ".py",
   "mimetype": "text/x-python",
   "name": "python",
   "nbconvert_exporter": "python",
   "pygments_lexer": "ipython2",
   "version": "2.7.14"
  }
 },
 "nbformat": 4,
 "nbformat_minor": 2
}
